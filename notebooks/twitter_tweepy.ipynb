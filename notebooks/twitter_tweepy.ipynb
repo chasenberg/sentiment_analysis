{
 "cells": [
  {
   "cell_type": "code",
   "execution_count": 3,
   "metadata": {
    "collapsed": true
   },
   "outputs": [],
   "source": [
    "import tweepy           # To consume Twitter's API\n",
    "import pandas as pd     # To handle data\n",
    "import numpy as np      # For number computing\n",
    "\n",
    "import sys\n",
    "sys.path.append('/home/chris/repos/sentiment_analysis/')\n",
    "\n",
    "from IPython.display import display\n",
    "import matplotlib.pyplot as plt\n",
    "import seaborn as sns\n",
    "%matplotlib inline"
   ]
  },
  {
   "cell_type": "code",
   "execution_count": 4,
   "metadata": {},
   "outputs": [],
   "source": [
    "from credential import * \n",
    "\n",
    "def twitter_setup():\n",
    "    # Authentication and access using keys:\n",
    "    auth = tweepy.OAuthHandler(CONSUMER_KEY, CONSUMER_SECRET)\n",
    "    auth.set_access_token(ACCESS_TOKEN, ACCESS_SECRET)\n",
    "\n",
    "    # Return API with authentication:\n",
    "    api = tweepy.API(auth)\n",
    "    return api"
   ]
  },
  {
   "cell_type": "code",
   "execution_count": 6,
   "metadata": {},
   "outputs": [
    {
     "name": "stdout",
     "output_type": "stream",
     "text": [
      "Number of tweets extracted: 200.\n",
      "\n",
      "5 recent tweets:\n",
      "\n",
      "RT @AA_SicherReisen: #Ouagadougou. Wir drücken allen Angehörigen der Opfer unser herzliches Beileid aus und wünschen den Verletzten gute Ge…\n",
      "\n",
      "@clouds_walking Oje. Ich leide mit. Danke für den Hinweis!\n",
      "\n",
      "Kanzlerin #Merkel telefoniert mit @POTUS Trump. Beide fordern Umsetzung der Resolution des UN-Sicherheitsrates und… https://t.co/L11Fmt5pho\n",
      "\n",
      "RT @RegSprecher: Aufgrund mehrerer Nachfragen: Tatsächlich ist nun lediglich die Umwidmung bestimmter „Reserveantibiotika“ verboten. Aus Ti…\n",
      "\n",
      "Aufgrund mehrerer Nachfragen: Tatsächlich ist nun lediglich die Umwidmung bestimmter „Reserveantibiotika“ verboten.… https://t.co/2ic2e87Qfv\n",
      "\n"
     ]
    }
   ],
   "source": [
    "# We create an extractor object:\n",
    "extractor = twitter_setup()\n",
    "\n",
    "# We create a tweet list as follows:\n",
    "tweets = extractor.user_timeline(screen_name=\"RegSprecher\", count=200)\n",
    "print(\"Number of tweets extracted: {}.\\n\".format(len(tweets)))\n",
    "\n",
    "# We print the most recent 5 tweets:\n",
    "print(\"5 recent tweets:\\n\")\n",
    "for tweet in tweets[:5]:\n",
    "    print(tweet.text)\n",
    "    print()"
   ]
  },
  {
   "cell_type": "code",
   "execution_count": 7,
   "metadata": {},
   "outputs": [
    {
     "data": {
      "text/html": [
       "<div>\n",
       "<style>\n",
       "    .dataframe thead tr:only-child th {\n",
       "        text-align: right;\n",
       "    }\n",
       "\n",
       "    .dataframe thead th {\n",
       "        text-align: left;\n",
       "    }\n",
       "\n",
       "    .dataframe tbody tr th {\n",
       "        vertical-align: top;\n",
       "    }\n",
       "</style>\n",
       "<table border=\"1\" class=\"dataframe\">\n",
       "  <thead>\n",
       "    <tr style=\"text-align: right;\">\n",
       "      <th></th>\n",
       "      <th>Tweets</th>\n",
       "    </tr>\n",
       "  </thead>\n",
       "  <tbody>\n",
       "    <tr>\n",
       "      <th>0</th>\n",
       "      <td>RT @AA_SicherReisen: #Ouagadougou. Wir drücken...</td>\n",
       "    </tr>\n",
       "    <tr>\n",
       "      <th>1</th>\n",
       "      <td>@clouds_walking Oje. Ich leide mit. Danke für ...</td>\n",
       "    </tr>\n",
       "    <tr>\n",
       "      <th>2</th>\n",
       "      <td>Kanzlerin #Merkel telefoniert mit @POTUS Trump...</td>\n",
       "    </tr>\n",
       "    <tr>\n",
       "      <th>3</th>\n",
       "      <td>RT @RegSprecher: Aufgrund mehrerer Nachfragen:...</td>\n",
       "    </tr>\n",
       "    <tr>\n",
       "      <th>4</th>\n",
       "      <td>Aufgrund mehrerer Nachfragen: Tatsächlich ist ...</td>\n",
       "    </tr>\n",
       "    <tr>\n",
       "      <th>5</th>\n",
       "      <td>Strengere Regeln für Antibiotika in der Tierha...</td>\n",
       "    </tr>\n",
       "    <tr>\n",
       "      <th>6</th>\n",
       "      <td>RT @RegSprecher: @myvantage Im Oktober 2017 - ...</td>\n",
       "    </tr>\n",
       "    <tr>\n",
       "      <th>7</th>\n",
       "      <td>@myvantage Im Oktober 2017 - die letzte verfüg...</td>\n",
       "    </tr>\n",
       "    <tr>\n",
       "      <th>8</th>\n",
       "      <td>Die gute Entwicklung am Arbeitsmarkt geht weit...</td>\n",
       "    </tr>\n",
       "    <tr>\n",
       "      <th>9</th>\n",
       "      <td>Die Millionen von Ehrenamtlichen sind ein wahr...</td>\n",
       "    </tr>\n",
       "  </tbody>\n",
       "</table>\n",
       "</div>"
      ],
      "text/plain": [
       "                                              Tweets\n",
       "0  RT @AA_SicherReisen: #Ouagadougou. Wir drücken...\n",
       "1  @clouds_walking Oje. Ich leide mit. Danke für ...\n",
       "2  Kanzlerin #Merkel telefoniert mit @POTUS Trump...\n",
       "3  RT @RegSprecher: Aufgrund mehrerer Nachfragen:...\n",
       "4  Aufgrund mehrerer Nachfragen: Tatsächlich ist ...\n",
       "5  Strengere Regeln für Antibiotika in der Tierha...\n",
       "6  RT @RegSprecher: @myvantage Im Oktober 2017 - ...\n",
       "7  @myvantage Im Oktober 2017 - die letzte verfüg...\n",
       "8  Die gute Entwicklung am Arbeitsmarkt geht weit...\n",
       "9  Die Millionen von Ehrenamtlichen sind ein wahr..."
      ]
     },
     "metadata": {},
     "output_type": "display_data"
    }
   ],
   "source": [
    "# We create a pandas dataframe as follows:\n",
    "data = pd.DataFrame(data=[tweet.text for tweet in tweets], columns=['Tweets'])\n",
    "\n",
    "# We display the first 10 elements of the dataframe:\n",
    "display(data.head(10))"
   ]
  },
  {
   "cell_type": "code",
   "execution_count": 8,
   "metadata": {},
   "outputs": [
    {
     "name": "stdout",
     "output_type": "stream",
     "text": [
      "['__class__', '__delattr__', '__dict__', '__dir__', '__doc__', '__eq__', '__format__', '__ge__', '__getattribute__', '__getstate__', '__gt__', '__hash__', '__init__', '__init_subclass__', '__le__', '__lt__', '__module__', '__ne__', '__new__', '__reduce__', '__reduce_ex__', '__repr__', '__setattr__', '__sizeof__', '__str__', '__subclasshook__', '__weakref__', '_api', '_json', 'author', 'contributors', 'coordinates', 'created_at', 'destroy', 'entities', 'favorite', 'favorite_count', 'favorited', 'geo', 'id', 'id_str', 'in_reply_to_screen_name', 'in_reply_to_status_id', 'in_reply_to_status_id_str', 'in_reply_to_user_id', 'in_reply_to_user_id_str', 'is_quote_status', 'lang', 'parse', 'parse_list', 'place', 'retweet', 'retweet_count', 'retweeted', 'retweeted_status', 'retweets', 'source', 'source_url', 'text', 'truncated', 'user']\n"
     ]
    }
   ],
   "source": [
    "print(dir(tweets[0]))"
   ]
  },
  {
   "cell_type": "code",
   "execution_count": 35,
   "metadata": {},
   "outputs": [
    {
     "name": "stdout",
     "output_type": "stream",
     "text": [
      "969623986408697858\n",
      "2018-03-02 17:22:27\n",
      "Twitter Web Client\n",
      "0\n",
      "9\n",
      "None\n",
      "None\n",
      "{'hashtags': [{'text': 'Ouagadougou', 'indices': [21, 33]}], 'symbols': [], 'user_mentions': [{'screen_name': 'AA_SicherReisen', 'name': 'Krisenreaktionszentrum', 'id': 958330185497174017, 'id_str': '958330185497174017', 'indices': [3, 19]}], 'urls': []}\n",
      "None\n"
     ]
    }
   ],
   "source": [
    "# We print info from the first tweet:\n",
    "print(tweets[0].id)\n",
    "print(tweets[0].created_at)\n",
    "print(tweets[0].source)\n",
    "print(tweets[0].favorite_count)\n",
    "print(tweets[0].retweet_count)\n",
    "print(tweets[0].geo)\n",
    "print(tweets[0].coordinates)\n",
    "print(tweets[0].entities)\n"
   ]
  },
  {
   "cell_type": "code",
   "execution_count": 47,
   "metadata": {},
   "outputs": [
    {
     "ename": "AttributeError",
     "evalue": "'ResultSet' object has no attribute 'entities'",
     "output_type": "error",
     "traceback": [
      "\u001b[0;31m---------------------------------------------------------------------------\u001b[0m",
      "\u001b[0;31mAttributeError\u001b[0m                            Traceback (most recent call last)",
      "\u001b[0;32m<ipython-input-47-9e86e0fb2151>\u001b[0m in \u001b[0;36m<module>\u001b[0;34m()\u001b[0m\n\u001b[0;32m----> 1\u001b[0;31m \u001b[0;32mfor\u001b[0m \u001b[0mhashtag\u001b[0m \u001b[0;32min\u001b[0m \u001b[0mtweets\u001b[0m\u001b[0;34m.\u001b[0m\u001b[0mentities\u001b[0m\u001b[0;34m[\u001b[0m\u001b[0;34m'hashtags'\u001b[0m\u001b[0;34m]\u001b[0m\u001b[0;34m:\u001b[0m\u001b[0;34m\u001b[0m\u001b[0m\n\u001b[0m\u001b[1;32m      2\u001b[0m     \u001b[0mprint\u001b[0m\u001b[0;34m(\u001b[0m\u001b[0mhashtag\u001b[0m\u001b[0;34m[\u001b[0m\u001b[0;34m'text'\u001b[0m\u001b[0;34m]\u001b[0m\u001b[0;34m)\u001b[0m\u001b[0;34m\u001b[0m\u001b[0m\n",
      "\u001b[0;31mAttributeError\u001b[0m: 'ResultSet' object has no attribute 'entities'"
     ]
    }
   ],
   "source": [
    "print(tweets[45].entities)"
   ]
  },
  {
   "cell_type": "code",
   "execution_count": 56,
   "metadata": {},
   "outputs": [
    {
     "name": "stdout",
     "output_type": "stream",
     "text": [
      "<class 'dict'>\n"
     ]
    },
    {
     "data": {
      "text/plain": [
       "{'hashtags': [{'indices': [21, 33], 'text': 'Ouagadougou'}],\n",
       " 'symbols': [],\n",
       " 'urls': [],\n",
       " 'user_mentions': [{'id': 958330185497174017,\n",
       "   'id_str': '958330185497174017',\n",
       "   'indices': [3, 19],\n",
       "   'name': 'Krisenreaktionszentrum',\n",
       "   'screen_name': 'AA_SicherReisen'}]}"
      ]
     },
     "execution_count": 56,
     "metadata": {},
     "output_type": "execute_result"
    }
   ],
   "source": [
    "hashtag = tweets[0].entities\n",
    "print(type(hashtag))\n",
    "hashtag"
   ]
  },
  {
   "cell_type": "code",
   "execution_count": 64,
   "metadata": {},
   "outputs": [
    {
     "name": "stdout",
     "output_type": "stream",
     "text": [
      "<class 'str'>\n"
     ]
    },
    {
     "data": {
      "text/plain": [
       "'Ouagadougou'"
      ]
     },
     "execution_count": 64,
     "metadata": {},
     "output_type": "execute_result"
    }
   ],
   "source": [
    "hashtag = tweets[0].entities.get('hashtags')[0].get('text')\n",
    "print(type(hashtag))\n",
    "hashtag"
   ]
  },
  {
   "cell_type": "code",
   "execution_count": null,
   "metadata": {
    "collapsed": true
   },
   "outputs": [],
   "source": []
  },
  {
   "cell_type": "code",
   "execution_count": null,
   "metadata": {
    "collapsed": true
   },
   "outputs": [],
   "source": []
  },
  {
   "cell_type": "code",
   "execution_count": 10,
   "metadata": {
    "collapsed": true
   },
   "outputs": [],
   "source": [
    "# We add relevant data:\n",
    "data['len']  = np.array([len(tweet.text) for tweet in tweets])\n",
    "data['ID']   = np.array([tweet.id for tweet in tweets])\n",
    "data['Date'] = np.array([tweet.created_at for tweet in tweets])\n",
    "data['Source'] = np.array([tweet.source for tweet in tweets])\n",
    "data['Likes']  = np.array([tweet.favorite_count for tweet in tweets])\n",
    "data['RTs']    = np.array([tweet.retweet_count for tweet in tweets])"
   ]
  },
  {
   "cell_type": "code",
   "execution_count": 13,
   "metadata": {},
   "outputs": [
    {
     "data": {
      "text/html": [
       "<div>\n",
       "<style>\n",
       "    .dataframe thead tr:only-child th {\n",
       "        text-align: right;\n",
       "    }\n",
       "\n",
       "    .dataframe thead th {\n",
       "        text-align: left;\n",
       "    }\n",
       "\n",
       "    .dataframe tbody tr th {\n",
       "        vertical-align: top;\n",
       "    }\n",
       "</style>\n",
       "<table border=\"1\" class=\"dataframe\">\n",
       "  <thead>\n",
       "    <tr style=\"text-align: right;\">\n",
       "      <th></th>\n",
       "      <th>Tweets</th>\n",
       "      <th>len</th>\n",
       "      <th>ID</th>\n",
       "      <th>Date</th>\n",
       "      <th>Source</th>\n",
       "      <th>Likes</th>\n",
       "      <th>RTs</th>\n",
       "    </tr>\n",
       "  </thead>\n",
       "  <tbody>\n",
       "    <tr>\n",
       "      <th>0</th>\n",
       "      <td>RT @AA_SicherReisen: #Ouagadougou. Wir drücken...</td>\n",
       "      <td>140</td>\n",
       "      <td>969623986408697858</td>\n",
       "      <td>2018-03-02 17:22:27</td>\n",
       "      <td>Twitter Web Client</td>\n",
       "      <td>0</td>\n",
       "      <td>9</td>\n",
       "    </tr>\n",
       "    <tr>\n",
       "      <th>1</th>\n",
       "      <td>@clouds_walking Oje. Ich leide mit. Danke für ...</td>\n",
       "      <td>58</td>\n",
       "      <td>969621833346580481</td>\n",
       "      <td>2018-03-02 17:13:54</td>\n",
       "      <td>Twitter for iPad</td>\n",
       "      <td>5</td>\n",
       "      <td>0</td>\n",
       "    </tr>\n",
       "    <tr>\n",
       "      <th>2</th>\n",
       "      <td>Kanzlerin #Merkel telefoniert mit @POTUS Trump...</td>\n",
       "      <td>139</td>\n",
       "      <td>969578638894092288</td>\n",
       "      <td>2018-03-02 14:22:16</td>\n",
       "      <td>Twitter Web Client</td>\n",
       "      <td>55</td>\n",
       "      <td>24</td>\n",
       "    </tr>\n",
       "    <tr>\n",
       "      <th>3</th>\n",
       "      <td>RT @RegSprecher: Aufgrund mehrerer Nachfragen:...</td>\n",
       "      <td>140</td>\n",
       "      <td>969240831386415104</td>\n",
       "      <td>2018-03-01 15:59:56</td>\n",
       "      <td>Twitter Web Client</td>\n",
       "      <td>0</td>\n",
       "      <td>11</td>\n",
       "    </tr>\n",
       "    <tr>\n",
       "      <th>4</th>\n",
       "      <td>Aufgrund mehrerer Nachfragen: Tatsächlich ist ...</td>\n",
       "      <td>140</td>\n",
       "      <td>969240510664724481</td>\n",
       "      <td>2018-03-01 15:58:40</td>\n",
       "      <td>Twitter Web Client</td>\n",
       "      <td>25</td>\n",
       "      <td>11</td>\n",
       "    </tr>\n",
       "    <tr>\n",
       "      <th>5</th>\n",
       "      <td>Strengere Regeln für Antibiotika in der Tierha...</td>\n",
       "      <td>140</td>\n",
       "      <td>969221728592367621</td>\n",
       "      <td>2018-03-01 14:44:02</td>\n",
       "      <td>Twitter Web Client</td>\n",
       "      <td>78</td>\n",
       "      <td>19</td>\n",
       "    </tr>\n",
       "    <tr>\n",
       "      <th>6</th>\n",
       "      <td>RT @RegSprecher: @myvantage Im Oktober 2017 - ...</td>\n",
       "      <td>140</td>\n",
       "      <td>969198567704408064</td>\n",
       "      <td>2018-03-01 13:12:00</td>\n",
       "      <td>Twitter Web Client</td>\n",
       "      <td>0</td>\n",
       "      <td>5</td>\n",
       "    </tr>\n",
       "    <tr>\n",
       "      <th>7</th>\n",
       "      <td>@myvantage Im Oktober 2017 - die letzte verfüg...</td>\n",
       "      <td>140</td>\n",
       "      <td>969198333540659200</td>\n",
       "      <td>2018-03-01 13:11:04</td>\n",
       "      <td>Twitter Web Client</td>\n",
       "      <td>11</td>\n",
       "      <td>5</td>\n",
       "    </tr>\n",
       "    <tr>\n",
       "      <th>8</th>\n",
       "      <td>Die gute Entwicklung am Arbeitsmarkt geht weit...</td>\n",
       "      <td>140</td>\n",
       "      <td>968860418407051265</td>\n",
       "      <td>2018-02-28 14:48:18</td>\n",
       "      <td>Twitter Web Client</td>\n",
       "      <td>74</td>\n",
       "      <td>28</td>\n",
       "    </tr>\n",
       "    <tr>\n",
       "      <th>9</th>\n",
       "      <td>Die Millionen von Ehrenamtlichen sind ein wahr...</td>\n",
       "      <td>140</td>\n",
       "      <td>968859822807371777</td>\n",
       "      <td>2018-02-28 14:45:56</td>\n",
       "      <td>Twitter Web Client</td>\n",
       "      <td>104</td>\n",
       "      <td>40</td>\n",
       "    </tr>\n",
       "    <tr>\n",
       "      <th>10</th>\n",
       "      <td>Kanzlerin #Merkel nach Besuch von Ghanas Präsi...</td>\n",
       "      <td>140</td>\n",
       "      <td>968836604411432961</td>\n",
       "      <td>2018-02-28 13:13:41</td>\n",
       "      <td>Twitter Web Client</td>\n",
       "      <td>43</td>\n",
       "      <td>9</td>\n",
       "    </tr>\n",
       "    <tr>\n",
       "      <th>11</th>\n",
       "      <td>Deutschland unterstützt die europäische Perspe...</td>\n",
       "      <td>140</td>\n",
       "      <td>968470646287036416</td>\n",
       "      <td>2018-02-27 12:59:30</td>\n",
       "      <td>Twitter Web Client</td>\n",
       "      <td>38</td>\n",
       "      <td>8</td>\n",
       "    </tr>\n",
       "    <tr>\n",
       "      <th>12</th>\n",
       "      <td>Kanzlerin #Merkel und Frankreichs Präsident @E...</td>\n",
       "      <td>140</td>\n",
       "      <td>967753849485348864</td>\n",
       "      <td>2018-02-25 13:31:12</td>\n",
       "      <td>Twitter Web Client</td>\n",
       "      <td>87</td>\n",
       "      <td>39</td>\n",
       "    </tr>\n",
       "    <tr>\n",
       "      <th>13</th>\n",
       "      <td>RT @GermanyinUSA: Sincere congratulations and ...</td>\n",
       "      <td>140</td>\n",
       "      <td>967739679318605824</td>\n",
       "      <td>2018-02-25 12:34:53</td>\n",
       "      <td>Twitter for iPad</td>\n",
       "      <td>0</td>\n",
       "      <td>19</td>\n",
       "    </tr>\n",
       "    <tr>\n",
       "      <th>14</th>\n",
       "      <td>Unvergessliche olympische Momente und herausra...</td>\n",
       "      <td>140</td>\n",
       "      <td>967736046153854981</td>\n",
       "      <td>2018-02-25 12:20:27</td>\n",
       "      <td>Twitter Web Client</td>\n",
       "      <td>218</td>\n",
       "      <td>29</td>\n",
       "    </tr>\n",
       "    <tr>\n",
       "      <th>15</th>\n",
       "      <td>RT @BMI_Bund: Ein unglaubliches Spiel! Silber ...</td>\n",
       "      <td>144</td>\n",
       "      <td>967659047280357376</td>\n",
       "      <td>2018-02-25 07:14:29</td>\n",
       "      <td>Twitter Web Client</td>\n",
       "      <td>0</td>\n",
       "      <td>141</td>\n",
       "    </tr>\n",
       "    <tr>\n",
       "      <th>16</th>\n",
       "      <td>Grandioser Erfolg im Viererbob! Herzlichen Glü...</td>\n",
       "      <td>139</td>\n",
       "      <td>967658951998431232</td>\n",
       "      <td>2018-02-25 07:14:07</td>\n",
       "      <td>Twitter Web Client</td>\n",
       "      <td>238</td>\n",
       "      <td>26</td>\n",
       "    </tr>\n",
       "    <tr>\n",
       "      <th>17</th>\n",
       "      <td>An Afrika wird sich zeigen, ob unsere Entwickl...</td>\n",
       "      <td>140</td>\n",
       "      <td>967325041871540224</td>\n",
       "      <td>2018-02-24 09:07:16</td>\n",
       "      <td>Twitter Web Client</td>\n",
       "      <td>91</td>\n",
       "      <td>47</td>\n",
       "    </tr>\n",
       "    <tr>\n",
       "      <th>18</th>\n",
       "      <td>RT @BMI_Bund: Großartig, gleich zwei Medaillen...</td>\n",
       "      <td>140</td>\n",
       "      <td>967316631214059520</td>\n",
       "      <td>2018-02-24 08:33:51</td>\n",
       "      <td>Twitter for iPhone</td>\n",
       "      <td>0</td>\n",
       "      <td>12</td>\n",
       "    </tr>\n",
       "    <tr>\n",
       "      <th>19</th>\n",
       "      <td>Verzweifelte Lage der Menschen in Ost-Ghouta, ...</td>\n",
       "      <td>140</td>\n",
       "      <td>967065770143485952</td>\n",
       "      <td>2018-02-23 15:57:01</td>\n",
       "      <td>Twitter Web Client</td>\n",
       "      <td>97</td>\n",
       "      <td>29</td>\n",
       "    </tr>\n",
       "  </tbody>\n",
       "</table>\n",
       "</div>"
      ],
      "text/plain": [
       "                                               Tweets  len  \\\n",
       "0   RT @AA_SicherReisen: #Ouagadougou. Wir drücken...  140   \n",
       "1   @clouds_walking Oje. Ich leide mit. Danke für ...   58   \n",
       "2   Kanzlerin #Merkel telefoniert mit @POTUS Trump...  139   \n",
       "3   RT @RegSprecher: Aufgrund mehrerer Nachfragen:...  140   \n",
       "4   Aufgrund mehrerer Nachfragen: Tatsächlich ist ...  140   \n",
       "5   Strengere Regeln für Antibiotika in der Tierha...  140   \n",
       "6   RT @RegSprecher: @myvantage Im Oktober 2017 - ...  140   \n",
       "7   @myvantage Im Oktober 2017 - die letzte verfüg...  140   \n",
       "8   Die gute Entwicklung am Arbeitsmarkt geht weit...  140   \n",
       "9   Die Millionen von Ehrenamtlichen sind ein wahr...  140   \n",
       "10  Kanzlerin #Merkel nach Besuch von Ghanas Präsi...  140   \n",
       "11  Deutschland unterstützt die europäische Perspe...  140   \n",
       "12  Kanzlerin #Merkel und Frankreichs Präsident @E...  140   \n",
       "13  RT @GermanyinUSA: Sincere congratulations and ...  140   \n",
       "14  Unvergessliche olympische Momente und herausra...  140   \n",
       "15  RT @BMI_Bund: Ein unglaubliches Spiel! Silber ...  144   \n",
       "16  Grandioser Erfolg im Viererbob! Herzlichen Glü...  139   \n",
       "17  An Afrika wird sich zeigen, ob unsere Entwickl...  140   \n",
       "18  RT @BMI_Bund: Großartig, gleich zwei Medaillen...  140   \n",
       "19  Verzweifelte Lage der Menschen in Ost-Ghouta, ...  140   \n",
       "\n",
       "                    ID                Date              Source  Likes  RTs  \n",
       "0   969623986408697858 2018-03-02 17:22:27  Twitter Web Client      0    9  \n",
       "1   969621833346580481 2018-03-02 17:13:54    Twitter for iPad      5    0  \n",
       "2   969578638894092288 2018-03-02 14:22:16  Twitter Web Client     55   24  \n",
       "3   969240831386415104 2018-03-01 15:59:56  Twitter Web Client      0   11  \n",
       "4   969240510664724481 2018-03-01 15:58:40  Twitter Web Client     25   11  \n",
       "5   969221728592367621 2018-03-01 14:44:02  Twitter Web Client     78   19  \n",
       "6   969198567704408064 2018-03-01 13:12:00  Twitter Web Client      0    5  \n",
       "7   969198333540659200 2018-03-01 13:11:04  Twitter Web Client     11    5  \n",
       "8   968860418407051265 2018-02-28 14:48:18  Twitter Web Client     74   28  \n",
       "9   968859822807371777 2018-02-28 14:45:56  Twitter Web Client    104   40  \n",
       "10  968836604411432961 2018-02-28 13:13:41  Twitter Web Client     43    9  \n",
       "11  968470646287036416 2018-02-27 12:59:30  Twitter Web Client     38    8  \n",
       "12  967753849485348864 2018-02-25 13:31:12  Twitter Web Client     87   39  \n",
       "13  967739679318605824 2018-02-25 12:34:53    Twitter for iPad      0   19  \n",
       "14  967736046153854981 2018-02-25 12:20:27  Twitter Web Client    218   29  \n",
       "15  967659047280357376 2018-02-25 07:14:29  Twitter Web Client      0  141  \n",
       "16  967658951998431232 2018-02-25 07:14:07  Twitter Web Client    238   26  \n",
       "17  967325041871540224 2018-02-24 09:07:16  Twitter Web Client     91   47  \n",
       "18  967316631214059520 2018-02-24 08:33:51  Twitter for iPhone      0   12  \n",
       "19  967065770143485952 2018-02-23 15:57:01  Twitter Web Client     97   29  "
      ]
     },
     "metadata": {},
     "output_type": "display_data"
    }
   ],
   "source": [
    "display(data.head(20))"
   ]
  },
  {
   "cell_type": "code",
   "execution_count": 14,
   "metadata": {},
   "outputs": [
    {
     "name": "stdout",
     "output_type": "stream",
     "text": [
      "The lenght's average in tweets: 135.11\n"
     ]
    }
   ],
   "source": [
    "# We extract the mean of lenghts:\n",
    "mean = np.mean(data['len'])\n",
    "\n",
    "print(\"The lenght's average in tweets: {}\".format(mean))"
   ]
  },
  {
   "cell_type": "code",
   "execution_count": 15,
   "metadata": {},
   "outputs": [
    {
     "name": "stdout",
     "output_type": "stream",
     "text": [
      "The tweet with more likes is: \n",
      "Es lebe die deutsch-französische Freundschaft! \n",
      "Vor 55 Jahren wurde der #Élysée-Vertrag unterzeichnet. Heute sagen… https://t.co/ETWuDkZef9\n",
      "Number of likes: 1404\n",
      "139 characters.\n",
      "\n",
      "The tweet with more retweets is: \n",
      "Es lebe die deutsch-französische Freundschaft! \n",
      "Vor 55 Jahren wurde der #Élysée-Vertrag unterzeichnet. Heute sagen… https://t.co/ETWuDkZef9\n",
      "Number of retweets: 595\n",
      "139 characters.\n",
      "\n"
     ]
    }
   ],
   "source": [
    "# We extract the tweet with more FAVs and more RTs:\n",
    "fav_max = np.max(data['Likes'])\n",
    "rt_max  = np.max(data['RTs'])\n",
    "\n",
    "fav = data[data.Likes == fav_max].index[0]\n",
    "rt  = data[data.RTs == rt_max].index[0]\n",
    "\n",
    "# Max FAVs:\n",
    "print(\"The tweet with more likes is: \\n{}\".format(data['Tweets'][fav]))\n",
    "print(\"Number of likes: {}\".format(fav_max))\n",
    "print(\"{} characters.\\n\".format(data['len'][fav]))\n",
    "\n",
    "# Max RTs:\n",
    "print(\"The tweet with more retweets is: \\n{}\".format(data['Tweets'][rt]))\n",
    "print(\"Number of retweets: {}\".format(rt_max))\n",
    "print(\"{} characters.\\n\".format(data['len'][rt]))"
   ]
  },
  {
   "cell_type": "code",
   "execution_count": 18,
   "metadata": {
    "collapsed": true
   },
   "outputs": [],
   "source": [
    "tlen = pd.Series(data=data['len'].values, index=data['Date'])\n",
    "tfav = pd.Series(data=data['Likes'].values, index=data['Date'])\n",
    "tret = pd.Series(data=data['RTs'].values, index=data['Date'])"
   ]
  },
  {
   "cell_type": "code",
   "execution_count": 19,
   "metadata": {},
   "outputs": [
    {
     "data": {
      "text/plain": [
       "<matplotlib.axes._subplots.AxesSubplot at 0x7f9048db30f0>"
      ]
     },
     "execution_count": 19,
     "metadata": {},
     "output_type": "execute_result"
    },
    {
     "data": {
      "image/png": "[encoded data removed]",
      "text/plain": [
       "<matplotlib.figure.Figure at 0x7f9049525d68>"
      ]
     },
     "metadata": {},
     "output_type": "display_data"
    }
   ],
   "source": [
    "tlen.plot(figsize=(16,4), color='r');\n",
    "tfav.plot(figsize=(16,4), label=\"Likes\", legend=True)\n",
    "tret.plot(figsize=(16,4), label=\"Retweets\", legend=True)"
   ]
  },
  {
   "cell_type": "code",
   "execution_count": 20,
   "metadata": {},
   "outputs": [
    {
     "name": "stdout",
     "output_type": "stream",
     "text": [
      "Creation of content sources:\n",
      "* Twitter Web Client\n",
      "* Twitter for iPad\n",
      "* Twitter for iPhone\n",
      "* Media Studio\n",
      "* TweetDeck\n"
     ]
    }
   ],
   "source": [
    "sources = []\n",
    "for source in data['Source']:\n",
    "    if source not in sources:\n",
    "        sources.append(source)\n",
    "\n",
    "print(\"Creation of content sources:\")\n",
    "for source in sources:\n",
    "    print(\"* {}\".format(source))"
   ]
  },
  {
   "cell_type": "code",
   "execution_count": 21,
   "metadata": {},
   "outputs": [
    {
     "data": {
      "image/png": "[encoded data removed]",
      "text/plain": [
       "<matplotlib.figure.Figure at 0x7f9048e2a0f0>"
      ]
     },
     "metadata": {},
     "output_type": "display_data"
    }
   ],
   "source": [
    "# We create a numpy vector mapped to labels:\n",
    "percent = np.zeros(len(sources))\n",
    "\n",
    "for source in data['Source']:\n",
    "    for index in range(len(sources)):\n",
    "        if source == sources[index]:\n",
    "            percent[index] += 1\n",
    "            pass\n",
    "\n",
    "percent /= 100\n",
    "\n",
    "# Pie chart:\n",
    "pie_chart = pd.Series(percent, index=sources, name='Sources')\n",
    "pie_chart.plot.pie(fontsize=11, autopct='%.2f', figsize=(6, 6));"
   ]
  },
  {
   "cell_type": "code",
   "execution_count": 30,
   "metadata": {},
   "outputs": [],
   "source": [
    "from textblob import TextBlob\n",
    "\n",
    "import re\n",
    "\n",
    "def clean_tweet(tweet):\n",
    "    '''\n",
    "    Utility function to clean the text in a tweet by removing \n",
    "    links and special characters using regex.\n",
    "    '''\n",
    "    return ' '.join(re.sub(\"(@[A-Za-z0-9]+)|([^0-9A-Za-z \\t])|(\\w+:\\/\\/\\S+)\", \" \", tweet).split())\n",
    "\n",
    "def analize_sentiment(tweet):\n",
    "    '''\n",
    "    Utility function to classify the polarity of a tweet\n",
    "    using textblob.\n",
    "    '''\n",
    "    analysis = TextBlob(clean_tweet(tweet))\n",
    "    if analysis.sentiment.polarity > 0:\n",
    "        return 1\n",
    "    elif analysis.sentiment.polarity == 0:\n",
    "        return 0\n",
    "    else:\n",
    "        return -1"
   ]
  },
  {
   "cell_type": "code",
   "execution_count": 31,
   "metadata": {},
   "outputs": [
    {
     "data": {
      "text/html": [
       "<div>\n",
       "<style>\n",
       "    .dataframe thead tr:only-child th {\n",
       "        text-align: right;\n",
       "    }\n",
       "\n",
       "    .dataframe thead th {\n",
       "        text-align: left;\n",
       "    }\n",
       "\n",
       "    .dataframe tbody tr th {\n",
       "        vertical-align: top;\n",
       "    }\n",
       "</style>\n",
       "<table border=\"1\" class=\"dataframe\">\n",
       "  <thead>\n",
       "    <tr style=\"text-align: right;\">\n",
       "      <th></th>\n",
       "      <th>Tweets</th>\n",
       "      <th>len</th>\n",
       "      <th>ID</th>\n",
       "      <th>Date</th>\n",
       "      <th>Source</th>\n",
       "      <th>Likes</th>\n",
       "      <th>RTs</th>\n",
       "      <th>SA</th>\n",
       "    </tr>\n",
       "  </thead>\n",
       "  <tbody>\n",
       "    <tr>\n",
       "      <th>0</th>\n",
       "      <td>RT @AA_SicherReisen: #Ouagadougou. Wir drücken...</td>\n",
       "      <td>140</td>\n",
       "      <td>969623986408697858</td>\n",
       "      <td>2018-03-02 17:22:27</td>\n",
       "      <td>Twitter Web Client</td>\n",
       "      <td>0</td>\n",
       "      <td>9</td>\n",
       "      <td>0</td>\n",
       "    </tr>\n",
       "    <tr>\n",
       "      <th>1</th>\n",
       "      <td>@clouds_walking Oje. Ich leide mit. Danke für ...</td>\n",
       "      <td>58</td>\n",
       "      <td>969621833346580481</td>\n",
       "      <td>2018-03-02 17:13:54</td>\n",
       "      <td>Twitter for iPad</td>\n",
       "      <td>5</td>\n",
       "      <td>0</td>\n",
       "      <td>0</td>\n",
       "    </tr>\n",
       "    <tr>\n",
       "      <th>2</th>\n",
       "      <td>Kanzlerin #Merkel telefoniert mit @POTUS Trump...</td>\n",
       "      <td>139</td>\n",
       "      <td>969578638894092288</td>\n",
       "      <td>2018-03-02 14:22:16</td>\n",
       "      <td>Twitter Web Client</td>\n",
       "      <td>55</td>\n",
       "      <td>24</td>\n",
       "      <td>0</td>\n",
       "    </tr>\n",
       "    <tr>\n",
       "      <th>3</th>\n",
       "      <td>RT @RegSprecher: Aufgrund mehrerer Nachfragen:...</td>\n",
       "      <td>140</td>\n",
       "      <td>969240831386415104</td>\n",
       "      <td>2018-03-01 15:59:56</td>\n",
       "      <td>Twitter Web Client</td>\n",
       "      <td>0</td>\n",
       "      <td>11</td>\n",
       "      <td>0</td>\n",
       "    </tr>\n",
       "    <tr>\n",
       "      <th>4</th>\n",
       "      <td>Aufgrund mehrerer Nachfragen: Tatsächlich ist ...</td>\n",
       "      <td>140</td>\n",
       "      <td>969240510664724481</td>\n",
       "      <td>2018-03-01 15:58:40</td>\n",
       "      <td>Twitter Web Client</td>\n",
       "      <td>25</td>\n",
       "      <td>11</td>\n",
       "      <td>0</td>\n",
       "    </tr>\n",
       "    <tr>\n",
       "      <th>5</th>\n",
       "      <td>Strengere Regeln für Antibiotika in der Tierha...</td>\n",
       "      <td>140</td>\n",
       "      <td>969221728592367621</td>\n",
       "      <td>2018-03-01 14:44:02</td>\n",
       "      <td>Twitter Web Client</td>\n",
       "      <td>78</td>\n",
       "      <td>19</td>\n",
       "      <td>0</td>\n",
       "    </tr>\n",
       "    <tr>\n",
       "      <th>6</th>\n",
       "      <td>RT @RegSprecher: @myvantage Im Oktober 2017 - ...</td>\n",
       "      <td>140</td>\n",
       "      <td>969198567704408064</td>\n",
       "      <td>2018-03-01 13:12:00</td>\n",
       "      <td>Twitter Web Client</td>\n",
       "      <td>0</td>\n",
       "      <td>5</td>\n",
       "      <td>0</td>\n",
       "    </tr>\n",
       "    <tr>\n",
       "      <th>7</th>\n",
       "      <td>@myvantage Im Oktober 2017 - die letzte verfüg...</td>\n",
       "      <td>140</td>\n",
       "      <td>969198333540659200</td>\n",
       "      <td>2018-03-01 13:11:04</td>\n",
       "      <td>Twitter Web Client</td>\n",
       "      <td>11</td>\n",
       "      <td>5</td>\n",
       "      <td>0</td>\n",
       "    </tr>\n",
       "    <tr>\n",
       "      <th>8</th>\n",
       "      <td>Die gute Entwicklung am Arbeitsmarkt geht weit...</td>\n",
       "      <td>140</td>\n",
       "      <td>968860418407051265</td>\n",
       "      <td>2018-02-28 14:48:18</td>\n",
       "      <td>Twitter Web Client</td>\n",
       "      <td>74</td>\n",
       "      <td>28</td>\n",
       "      <td>0</td>\n",
       "    </tr>\n",
       "    <tr>\n",
       "      <th>9</th>\n",
       "      <td>Die Millionen von Ehrenamtlichen sind ein wahr...</td>\n",
       "      <td>140</td>\n",
       "      <td>968859822807371777</td>\n",
       "      <td>2018-02-28 14:45:56</td>\n",
       "      <td>Twitter Web Client</td>\n",
       "      <td>104</td>\n",
       "      <td>40</td>\n",
       "      <td>0</td>\n",
       "    </tr>\n",
       "  </tbody>\n",
       "</table>\n",
       "</div>"
      ],
      "text/plain": [
       "                                              Tweets  len                  ID  \\\n",
       "0  RT @AA_SicherReisen: #Ouagadougou. Wir drücken...  140  969623986408697858   \n",
       "1  @clouds_walking Oje. Ich leide mit. Danke für ...   58  969621833346580481   \n",
       "2  Kanzlerin #Merkel telefoniert mit @POTUS Trump...  139  969578638894092288   \n",
       "3  RT @RegSprecher: Aufgrund mehrerer Nachfragen:...  140  969240831386415104   \n",
       "4  Aufgrund mehrerer Nachfragen: Tatsächlich ist ...  140  969240510664724481   \n",
       "5  Strengere Regeln für Antibiotika in der Tierha...  140  969221728592367621   \n",
       "6  RT @RegSprecher: @myvantage Im Oktober 2017 - ...  140  969198567704408064   \n",
       "7  @myvantage Im Oktober 2017 - die letzte verfüg...  140  969198333540659200   \n",
       "8  Die gute Entwicklung am Arbeitsmarkt geht weit...  140  968860418407051265   \n",
       "9  Die Millionen von Ehrenamtlichen sind ein wahr...  140  968859822807371777   \n",
       "\n",
       "                 Date              Source  Likes  RTs  SA  \n",
       "0 2018-03-02 17:22:27  Twitter Web Client      0    9   0  \n",
       "1 2018-03-02 17:13:54    Twitter for iPad      5    0   0  \n",
       "2 2018-03-02 14:22:16  Twitter Web Client     55   24   0  \n",
       "3 2018-03-01 15:59:56  Twitter Web Client      0   11   0  \n",
       "4 2018-03-01 15:58:40  Twitter Web Client     25   11   0  \n",
       "5 2018-03-01 14:44:02  Twitter Web Client     78   19   0  \n",
       "6 2018-03-01 13:12:00  Twitter Web Client      0    5   0  \n",
       "7 2018-03-01 13:11:04  Twitter Web Client     11    5   0  \n",
       "8 2018-02-28 14:48:18  Twitter Web Client     74   28   0  \n",
       "9 2018-02-28 14:45:56  Twitter Web Client    104   40   0  "
      ]
     },
     "metadata": {},
     "output_type": "display_data"
    }
   ],
   "source": [
    "# We create a column with the result of the analysis:\n",
    "data['SA'] = np.array([ analize_sentiment(tweet) for tweet in data['Tweets'] ])\n",
    "\n",
    "# We display the updated dataframe with the new column:\n",
    "display(data.head(10))"
   ]
  },
  {
   "cell_type": "code",
   "execution_count": 25,
   "metadata": {
    "collapsed": true
   },
   "outputs": [],
   "source": [
    "# We construct lists with classified tweets:\n",
    "\n",
    "pos_tweets = [ tweet for index, tweet in enumerate(data['Tweets']) if data['SA'][index] > 0]\n",
    "neu_tweets = [ tweet for index, tweet in enumerate(data['Tweets']) if data['SA'][index] == 0]\n",
    "neg_tweets = [ tweet for index, tweet in enumerate(data['Tweets']) if data['SA'][index] < 0]"
   ]
  },
  {
   "cell_type": "code",
   "execution_count": 32,
   "metadata": {},
   "outputs": [
    {
     "name": "stdout",
     "output_type": "stream",
     "text": [
      "Percentage of positive tweets: 6.0%\n",
      "Percentage of neutral tweets: 92.5%\n",
      "Percentage de negative tweets: 1.5%\n"
     ]
    }
   ],
   "source": [
    "# We print percentages:\n",
    "\n",
    "print(\"Percentage of positive tweets: {}%\".format(len(pos_tweets)*100/len(data['Tweets'])))\n",
    "print(\"Percentage of neutral tweets: {}%\".format(len(neu_tweets)*100/len(data['Tweets'])))\n",
    "print(\"Percentage de negative tweets: {}%\".format(len(neg_tweets)*100/len(data['Tweets'])))"
   ]
  },
  {
   "cell_type": "code",
   "execution_count": 34,
   "metadata": {},
   "outputs": [
    {
     "ename": "NameError",
     "evalue": "name 'bag' is not defined",
     "output_type": "error",
     "traceback": [
      "\u001b[0;31m---------------------------------------------------------------------------\u001b[0m",
      "\u001b[0;31mNameError\u001b[0m                                 Traceback (most recent call last)",
      "\u001b[0;32m<ipython-input-34-c2b786344f1c>\u001b[0m in \u001b[0;36m<module>\u001b[0;34m()\u001b[0m\n\u001b[1;32m      1\u001b[0m \u001b[0md\u001b[0m \u001b[0;34m=\u001b[0m \u001b[0;34m{\u001b[0m\u001b[0;34m}\u001b[0m\u001b[0;34m\u001b[0m\u001b[0m\n\u001b[0;32m----> 2\u001b[0;31m \u001b[0;32mfor\u001b[0m \u001b[0ma\u001b[0m\u001b[0;34m,\u001b[0m \u001b[0mx\u001b[0m \u001b[0;32min\u001b[0m \u001b[0mbag\u001b[0m\u001b[0;34m.\u001b[0m\u001b[0mvalues\u001b[0m\u001b[0;34m:\u001b[0m\u001b[0;34m\u001b[0m\u001b[0m\n\u001b[0m\u001b[1;32m      3\u001b[0m     \u001b[0md\u001b[0m\u001b[0;34m[\u001b[0m\u001b[0ma\u001b[0m\u001b[0;34m]\u001b[0m \u001b[0;34m=\u001b[0m \u001b[0mx\u001b[0m\u001b[0;34m\u001b[0m\u001b[0m\n\u001b[1;32m      4\u001b[0m \u001b[0;34m\u001b[0m\u001b[0m\n\u001b[1;32m      5\u001b[0m \u001b[0;32mimport\u001b[0m \u001b[0mmatplotlib\u001b[0m\u001b[0;34m.\u001b[0m\u001b[0mpyplot\u001b[0m \u001b[0;32mas\u001b[0m \u001b[0mplt\u001b[0m\u001b[0;34m\u001b[0m\u001b[0m\n",
      "\u001b[0;31mNameError\u001b[0m: name 'bag' is not defined"
     ]
    }
   ],
   "source": [
    "d = {}\n",
    "for a, x in bag.values:\n",
    "    d[a] = x\n",
    "\n",
    "import matplotlib.pyplot as plt\n",
    "from wordcloud import WordCloud\n",
    "\n",
    "wordcloud = WordCloud()\n",
    "wordcloud.generate_from_frequencies(frequencies=d)\n",
    "plt.figure()\n",
    "plt.imshow(wordcloud, interpolation=\"bilinear\")\n",
    "plt.axis(\"off\")\n",
    "plt.show()"
   ]
  }
 ],
 "metadata": {
  "kernelspec": {
   "display_name": "Python 3",
   "language": "python",
   "name": "python3"
  },
  "language_info": {
   "codemirror_mode": {
    "name": "ipython",
    "version": 3
   },
   "file_extension": ".py",
   "mimetype": "text/x-python",
   "name": "python",
   "nbconvert_exporter": "python",
   "pygments_lexer": "ipython3",
   "version": "3.6.3"
  }
 },
 "nbformat": 4,
 "nbformat_minor": 2
}
